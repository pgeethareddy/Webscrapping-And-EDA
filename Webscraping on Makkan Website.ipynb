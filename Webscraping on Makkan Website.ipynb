{
 "cells": [
  {
   "cell_type": "code",
   "execution_count": 2,
   "id": "47ba3fba",
   "metadata": {},
   "outputs": [
    {
     "name": "stdout",
     "output_type": "stream",
     "text": [
      "Requirement already satisfied: bs4 in c:\\users\\user\\documents\\anaconda\\lib\\site-packages (0.0.1)\n",
      "Requirement already satisfied: beautifulsoup4 in c:\\users\\user\\documents\\anaconda\\lib\\site-packages (from bs4) (4.11.1)\n",
      "Requirement already satisfied: soupsieve>1.2 in c:\\users\\user\\documents\\anaconda\\lib\\site-packages (from beautifulsoup4->bs4) (2.3.2.post1)\n"
     ]
    }
   ],
   "source": [
    "!pip install bs4"
   ]
  },
  {
   "cell_type": "code",
   "execution_count": 3,
   "id": "8c99282f",
   "metadata": {},
   "outputs": [],
   "source": [
    "import requests as rs\n",
    "from bs4 import BeautifulSoup\n",
    "import pandas as pd\n",
    "import numpy as np\n",
    "import re"
   ]
  },
  {
   "cell_type": "code",
   "execution_count": 4,
   "id": "e32c352e",
   "metadata": {},
   "outputs": [],
   "source": [
    "house_name =[]\n",
    "city_name =[]\n",
    "price =[]\n",
    "area_sq_ft =[]\n",
    "status = []\n",
    "page = 50\n",
    "for i in range(1,page):\n",
    "    url=\"https://www.makaan.com/chennai-residential-property/buy-property-in-chennai-city?page=5&_=1699974459153\".format(i)\n",
    "    header_requests={\"Accept-Encoding\":\"gzip, deflate, br\",\"User-Agent\":\"Mozilla/5.0 (Windows NT 10.0; Win64; x64) AppleWebKit/537.36 (KHTML, like Gecko) Chrome/119.0.0.0 Safari/537.36\"}\n",
    "    response = rs.get(url, headers=header_requests)\n",
    "    html_code = response.text\n",
    "    soup = BeautifulSoup(html_code)\n",
    "    container = soup.find_all('div', attrs={'class' :\"cardLayout clearfix\"})\n",
    "    for containers in container:\n",
    "            house = containers.find('div', attrs={'class' : \"title-line\"})\n",
    "            if house is None:\n",
    "                house_name.append(np.NAN)\n",
    "            else:\n",
    "                house_name.append(house.text)\n",
    "            city = containers.find('div', attrs={'class' : \"locWrap\"})\n",
    "            if city is None:\n",
    "                city_name.append(np.NAN)\n",
    "            else:\n",
    "                city_name.append(city.text)\n",
    "            Cost = containers.find('div', attrs={'data-type' : \"price-link\"})\n",
    "            if Cost is None:\n",
    "                price.append(np.NAN)\n",
    "            else:\n",
    "                price.append(Cost.text)\n",
    "            area = containers.find('td', attrs={'class' : \"size\"})\n",
    "            if area is None:\n",
    "                area_sq_ft.append(np.NAN)\n",
    "            else:\n",
    "                area_sq_ft.append(area.text)\n",
    "            house = containers.find('td', attrs={'class' : \"val\"})\n",
    "            if house is None:\n",
    "                status.append(np.NAN)\n",
    "            else:\n",
    "                status.append(house.text)"
   ]
  },
  {
   "cell_type": "code",
   "execution_count": 5,
   "id": "7d7add92",
   "metadata": {},
   "outputs": [
    {
     "name": "stdout",
     "output_type": "stream",
     "text": [
      "Name: 980\n",
      "City: 980\n",
      "Cost: 980\n",
      "Area: 980\n",
      "Product: 980\n"
     ]
    }
   ],
   "source": [
    "print(\"Name:\", len(house_name))\n",
    "print(\"City:\", len(city_name))\n",
    "print(\"Cost:\", len(price))\n",
    "print(\"Area:\", len(area_sq_ft))\n",
    "print(\"Product:\", len(status))"
   ]
  },
  {
   "cell_type": "code",
   "execution_count": 6,
   "id": "6548dda1",
   "metadata": {},
   "outputs": [],
   "source": [
    "df = pd.DataFrame({'no_of_bhk' : house_name, \n",
    "                   'address' : city_name, \n",
    "                   'price' : price, \n",
    "                   'area_sq_ft' : area_sq_ft,\n",
    "                   'status' : status})"
   ]
  },
  {
   "cell_type": "code",
   "execution_count": 7,
   "id": "b5ce615a",
   "metadata": {},
   "outputs": [
    {
     "data": {
      "text/html": [
       "<div>\n",
       "<style scoped>\n",
       "    .dataframe tbody tr th:only-of-type {\n",
       "        vertical-align: middle;\n",
       "    }\n",
       "\n",
       "    .dataframe tbody tr th {\n",
       "        vertical-align: top;\n",
       "    }\n",
       "\n",
       "    .dataframe thead th {\n",
       "        text-align: right;\n",
       "    }\n",
       "</style>\n",
       "<table border=\"1\" class=\"dataframe\">\n",
       "  <thead>\n",
       "    <tr style=\"text-align: right;\">\n",
       "      <th></th>\n",
       "      <th>no_of_bhk</th>\n",
       "      <th>address</th>\n",
       "      <th>price</th>\n",
       "      <th>area_sq_ft</th>\n",
       "      <th>status</th>\n",
       "    </tr>\n",
       "  </thead>\n",
       "  <tbody>\n",
       "    <tr>\n",
       "      <th>0</th>\n",
       "      <td>3 BHK Apartment in GP GP Homes Elanza</td>\n",
       "      <td>Mugalivakkam, Chennai</td>\n",
       "      <td>88.59 L</td>\n",
       "      <td>1305</td>\n",
       "      <td>Ready to move</td>\n",
       "    </tr>\n",
       "    <tr>\n",
       "      <th>1</th>\n",
       "      <td>3 BHK Apartment in Sagar Valley</td>\n",
       "      <td>Sholinganallur, Chennai</td>\n",
       "      <td>88 L</td>\n",
       "      <td>1600</td>\n",
       "      <td>Under Construction</td>\n",
       "    </tr>\n",
       "    <tr>\n",
       "      <th>2</th>\n",
       "      <td>2 BHK Apartment in Raunaq Garden Wood</td>\n",
       "      <td>Pallavaram, Chennai</td>\n",
       "      <td>71.55 L</td>\n",
       "      <td>1068</td>\n",
       "      <td>Ready to move</td>\n",
       "    </tr>\n",
       "    <tr>\n",
       "      <th>3</th>\n",
       "      <td>2 BHK Apartment in Hanu Aishwaryam</td>\n",
       "      <td>Perumbakkam, Chennai</td>\n",
       "      <td>56.9 L</td>\n",
       "      <td>1096</td>\n",
       "      <td>Under Construction</td>\n",
       "    </tr>\n",
       "    <tr>\n",
       "      <th>4</th>\n",
       "      <td>2 BHK Apartment in Saradeuz Olympus The Royal ...</td>\n",
       "      <td>Perumbakkam, Chennai</td>\n",
       "      <td>55.36 L</td>\n",
       "      <td>900</td>\n",
       "      <td>Ready to move</td>\n",
       "    </tr>\n",
       "    <tr>\n",
       "      <th>...</th>\n",
       "      <td>...</td>\n",
       "      <td>...</td>\n",
       "      <td>...</td>\n",
       "      <td>...</td>\n",
       "      <td>...</td>\n",
       "    </tr>\n",
       "    <tr>\n",
       "      <th>975</th>\n",
       "      <td>3 BHK Villa in VGN Pride De Villa</td>\n",
       "      <td>Padur, Chennai</td>\n",
       "      <td>1.34 Cr</td>\n",
       "      <td>1692</td>\n",
       "      <td>Under Construction</td>\n",
       "    </tr>\n",
       "    <tr>\n",
       "      <th>976</th>\n",
       "      <td>2 BHK Apartment in Silversky Lakeside3</td>\n",
       "      <td>Puzhal, Chennai</td>\n",
       "      <td>53.07 L</td>\n",
       "      <td>965</td>\n",
       "      <td>Ready to move</td>\n",
       "    </tr>\n",
       "    <tr>\n",
       "      <th>977</th>\n",
       "      <td>2 BHK Apartment in Navins Maple Sky Residences...</td>\n",
       "      <td>Vengaivasal, Chennai</td>\n",
       "      <td>82 L</td>\n",
       "      <td>1002</td>\n",
       "      <td>Ready to move</td>\n",
       "    </tr>\n",
       "    <tr>\n",
       "      <th>978</th>\n",
       "      <td>2 BHK Apartment in Doshi Risington 2</td>\n",
       "      <td>Karapakkam, Chennai</td>\n",
       "      <td>82.89 L</td>\n",
       "      <td>1106</td>\n",
       "      <td>Under Construction</td>\n",
       "    </tr>\n",
       "    <tr>\n",
       "      <th>979</th>\n",
       "      <td>2 BHK Apartment in Tulive Azpire</td>\n",
       "      <td>East Tambaram, Chennai</td>\n",
       "      <td>59.17 L</td>\n",
       "      <td>1225</td>\n",
       "      <td>Under Construction</td>\n",
       "    </tr>\n",
       "  </tbody>\n",
       "</table>\n",
       "<p>980 rows × 5 columns</p>\n",
       "</div>"
      ],
      "text/plain": [
       "                                             no_of_bhk  \\\n",
       "0                3 BHK Apartment in GP GP Homes Elanza   \n",
       "1                      3 BHK Apartment in Sagar Valley   \n",
       "2                2 BHK Apartment in Raunaq Garden Wood   \n",
       "3                   2 BHK Apartment in Hanu Aishwaryam   \n",
       "4    2 BHK Apartment in Saradeuz Olympus The Royal ...   \n",
       "..                                                 ...   \n",
       "975                  3 BHK Villa in VGN Pride De Villa   \n",
       "976             2 BHK Apartment in Silversky Lakeside3   \n",
       "977  2 BHK Apartment in Navins Maple Sky Residences...   \n",
       "978               2 BHK Apartment in Doshi Risington 2   \n",
       "979                   2 BHK Apartment in Tulive Azpire   \n",
       "\n",
       "                     address     price area_sq_ft              status  \n",
       "0      Mugalivakkam, Chennai   88.59 L      1305        Ready to move  \n",
       "1    Sholinganallur, Chennai      88 L      1600   Under Construction  \n",
       "2        Pallavaram, Chennai   71.55 L      1068        Ready to move  \n",
       "3       Perumbakkam, Chennai    56.9 L      1096   Under Construction  \n",
       "4       Perumbakkam, Chennai   55.36 L       900        Ready to move  \n",
       "..                       ...       ...        ...                 ...  \n",
       "975           Padur, Chennai   1.34 Cr      1692   Under Construction  \n",
       "976          Puzhal, Chennai   53.07 L       965        Ready to move  \n",
       "977     Vengaivasal, Chennai      82 L      1002        Ready to move  \n",
       "978      Karapakkam, Chennai   82.89 L      1106   Under Construction  \n",
       "979   East Tambaram, Chennai   59.17 L      1225   Under Construction  \n",
       "\n",
       "[980 rows x 5 columns]"
      ]
     },
     "execution_count": 7,
     "metadata": {},
     "output_type": "execute_result"
    }
   ],
   "source": [
    "df"
   ]
  },
  {
   "cell_type": "code",
   "execution_count": 8,
   "id": "77022825",
   "metadata": {},
   "outputs": [
    {
     "data": {
      "text/plain": [
       "(980, 5)"
      ]
     },
     "execution_count": 8,
     "metadata": {},
     "output_type": "execute_result"
    }
   ],
   "source": [
    "df.shape"
   ]
  },
  {
   "cell_type": "code",
   "execution_count": 9,
   "id": "38afc589",
   "metadata": {},
   "outputs": [
    {
     "name": "stdout",
     "output_type": "stream",
     "text": [
      "<class 'pandas.core.frame.DataFrame'>\n",
      "RangeIndex: 980 entries, 0 to 979\n",
      "Data columns (total 5 columns):\n",
      " #   Column      Non-Null Count  Dtype \n",
      "---  ------      --------------  ----- \n",
      " 0   no_of_bhk   980 non-null    object\n",
      " 1   address     980 non-null    object\n",
      " 2   price       980 non-null    object\n",
      " 3   area_sq_ft  980 non-null    object\n",
      " 4   status      980 non-null    object\n",
      "dtypes: object(5)\n",
      "memory usage: 38.4+ KB\n"
     ]
    }
   ],
   "source": [
    "df.info()"
   ]
  },
  {
   "cell_type": "code",
   "execution_count": 10,
   "id": "08abf59d",
   "metadata": {},
   "outputs": [
    {
     "data": {
      "text/html": [
       "<div>\n",
       "<style scoped>\n",
       "    .dataframe tbody tr th:only-of-type {\n",
       "        vertical-align: middle;\n",
       "    }\n",
       "\n",
       "    .dataframe tbody tr th {\n",
       "        vertical-align: top;\n",
       "    }\n",
       "\n",
       "    .dataframe thead th {\n",
       "        text-align: right;\n",
       "    }\n",
       "</style>\n",
       "<table border=\"1\" class=\"dataframe\">\n",
       "  <thead>\n",
       "    <tr style=\"text-align: right;\">\n",
       "      <th></th>\n",
       "      <th>no_of_bhk</th>\n",
       "      <th>address</th>\n",
       "      <th>price</th>\n",
       "      <th>area_sq_ft</th>\n",
       "      <th>status</th>\n",
       "    </tr>\n",
       "  </thead>\n",
       "  <tbody>\n",
       "    <tr>\n",
       "      <th>975</th>\n",
       "      <td>3 BHK Villa in VGN Pride De Villa</td>\n",
       "      <td>Padur, Chennai</td>\n",
       "      <td>1.34 Cr</td>\n",
       "      <td>1692</td>\n",
       "      <td>Under Construction</td>\n",
       "    </tr>\n",
       "    <tr>\n",
       "      <th>976</th>\n",
       "      <td>2 BHK Apartment in Silversky Lakeside3</td>\n",
       "      <td>Puzhal, Chennai</td>\n",
       "      <td>53.07 L</td>\n",
       "      <td>965</td>\n",
       "      <td>Ready to move</td>\n",
       "    </tr>\n",
       "    <tr>\n",
       "      <th>977</th>\n",
       "      <td>2 BHK Apartment in Navins Maple Sky Residences...</td>\n",
       "      <td>Vengaivasal, Chennai</td>\n",
       "      <td>82 L</td>\n",
       "      <td>1002</td>\n",
       "      <td>Ready to move</td>\n",
       "    </tr>\n",
       "    <tr>\n",
       "      <th>978</th>\n",
       "      <td>2 BHK Apartment in Doshi Risington 2</td>\n",
       "      <td>Karapakkam, Chennai</td>\n",
       "      <td>82.89 L</td>\n",
       "      <td>1106</td>\n",
       "      <td>Under Construction</td>\n",
       "    </tr>\n",
       "    <tr>\n",
       "      <th>979</th>\n",
       "      <td>2 BHK Apartment in Tulive Azpire</td>\n",
       "      <td>East Tambaram, Chennai</td>\n",
       "      <td>59.17 L</td>\n",
       "      <td>1225</td>\n",
       "      <td>Under Construction</td>\n",
       "    </tr>\n",
       "  </tbody>\n",
       "</table>\n",
       "</div>"
      ],
      "text/plain": [
       "                                             no_of_bhk  \\\n",
       "975                  3 BHK Villa in VGN Pride De Villa   \n",
       "976             2 BHK Apartment in Silversky Lakeside3   \n",
       "977  2 BHK Apartment in Navins Maple Sky Residences...   \n",
       "978               2 BHK Apartment in Doshi Risington 2   \n",
       "979                   2 BHK Apartment in Tulive Azpire   \n",
       "\n",
       "                    address     price area_sq_ft              status  \n",
       "975          Padur, Chennai   1.34 Cr      1692   Under Construction  \n",
       "976         Puzhal, Chennai   53.07 L       965        Ready to move  \n",
       "977    Vengaivasal, Chennai      82 L      1002        Ready to move  \n",
       "978     Karapakkam, Chennai   82.89 L      1106   Under Construction  \n",
       "979  East Tambaram, Chennai   59.17 L      1225   Under Construction  "
      ]
     },
     "execution_count": 10,
     "metadata": {},
     "output_type": "execute_result"
    }
   ],
   "source": [
    "df.tail()"
   ]
  },
  {
   "cell_type": "code",
   "execution_count": 11,
   "id": "7fb75ec9",
   "metadata": {},
   "outputs": [],
   "source": [
    "def convert_to_rupees(amount):\n",
    "    value, unit = amount.split()\n",
    "    value = float(value)\n",
    "    if unit == 'Cr':\n",
    "        return value * 10**7\n",
    "    elif unit == 'L':\n",
    "        return value * 10**5\n",
    "    else:\n",
    "        return value"
   ]
  },
  {
   "cell_type": "code",
   "execution_count": 12,
   "id": "fdffe8b3",
   "metadata": {},
   "outputs": [
    {
     "name": "stdout",
     "output_type": "stream",
     "text": [
      "0       8859000.0\n",
      "1       8800000.0\n",
      "2       7155000.0\n",
      "3       5690000.0\n",
      "4       5536000.0\n",
      "          ...    \n",
      "975    13400000.0\n",
      "976     5307000.0\n",
      "977     8200000.0\n",
      "978     8289000.0\n",
      "979     5917000.0\n",
      "Name: amount, Length: 980, dtype: float64\n"
     ]
    }
   ],
   "source": [
    "df['amount'] = df['price'].apply(convert_to_rupees)\n",
    "\n",
    "print(df[\"amount\"])"
   ]
  },
  {
   "cell_type": "code",
   "execution_count": 13,
   "id": "9bcab95e",
   "metadata": {},
   "outputs": [
    {
     "data": {
      "text/html": [
       "<div>\n",
       "<style scoped>\n",
       "    .dataframe tbody tr th:only-of-type {\n",
       "        vertical-align: middle;\n",
       "    }\n",
       "\n",
       "    .dataframe tbody tr th {\n",
       "        vertical-align: top;\n",
       "    }\n",
       "\n",
       "    .dataframe thead th {\n",
       "        text-align: right;\n",
       "    }\n",
       "</style>\n",
       "<table border=\"1\" class=\"dataframe\">\n",
       "  <thead>\n",
       "    <tr style=\"text-align: right;\">\n",
       "      <th></th>\n",
       "      <th>no_of_bhk</th>\n",
       "      <th>address</th>\n",
       "      <th>price</th>\n",
       "      <th>area_sq_ft</th>\n",
       "      <th>status</th>\n",
       "      <th>amount</th>\n",
       "    </tr>\n",
       "  </thead>\n",
       "  <tbody>\n",
       "    <tr>\n",
       "      <th>0</th>\n",
       "      <td>3 BHK Apartment in GP GP Homes Elanza</td>\n",
       "      <td>Mugalivakkam, Chennai</td>\n",
       "      <td>88.59 L</td>\n",
       "      <td>1305</td>\n",
       "      <td>Ready to move</td>\n",
       "      <td>8859000.0</td>\n",
       "    </tr>\n",
       "    <tr>\n",
       "      <th>1</th>\n",
       "      <td>3 BHK Apartment in Sagar Valley</td>\n",
       "      <td>Sholinganallur, Chennai</td>\n",
       "      <td>88 L</td>\n",
       "      <td>1600</td>\n",
       "      <td>Under Construction</td>\n",
       "      <td>8800000.0</td>\n",
       "    </tr>\n",
       "    <tr>\n",
       "      <th>2</th>\n",
       "      <td>2 BHK Apartment in Raunaq Garden Wood</td>\n",
       "      <td>Pallavaram, Chennai</td>\n",
       "      <td>71.55 L</td>\n",
       "      <td>1068</td>\n",
       "      <td>Ready to move</td>\n",
       "      <td>7155000.0</td>\n",
       "    </tr>\n",
       "    <tr>\n",
       "      <th>3</th>\n",
       "      <td>2 BHK Apartment in Hanu Aishwaryam</td>\n",
       "      <td>Perumbakkam, Chennai</td>\n",
       "      <td>56.9 L</td>\n",
       "      <td>1096</td>\n",
       "      <td>Under Construction</td>\n",
       "      <td>5690000.0</td>\n",
       "    </tr>\n",
       "    <tr>\n",
       "      <th>4</th>\n",
       "      <td>2 BHK Apartment in Saradeuz Olympus The Royal ...</td>\n",
       "      <td>Perumbakkam, Chennai</td>\n",
       "      <td>55.36 L</td>\n",
       "      <td>900</td>\n",
       "      <td>Ready to move</td>\n",
       "      <td>5536000.0</td>\n",
       "    </tr>\n",
       "    <tr>\n",
       "      <th>...</th>\n",
       "      <td>...</td>\n",
       "      <td>...</td>\n",
       "      <td>...</td>\n",
       "      <td>...</td>\n",
       "      <td>...</td>\n",
       "      <td>...</td>\n",
       "    </tr>\n",
       "    <tr>\n",
       "      <th>975</th>\n",
       "      <td>3 BHK Villa in VGN Pride De Villa</td>\n",
       "      <td>Padur, Chennai</td>\n",
       "      <td>1.34 Cr</td>\n",
       "      <td>1692</td>\n",
       "      <td>Under Construction</td>\n",
       "      <td>13400000.0</td>\n",
       "    </tr>\n",
       "    <tr>\n",
       "      <th>976</th>\n",
       "      <td>2 BHK Apartment in Silversky Lakeside3</td>\n",
       "      <td>Puzhal, Chennai</td>\n",
       "      <td>53.07 L</td>\n",
       "      <td>965</td>\n",
       "      <td>Ready to move</td>\n",
       "      <td>5307000.0</td>\n",
       "    </tr>\n",
       "    <tr>\n",
       "      <th>977</th>\n",
       "      <td>2 BHK Apartment in Navins Maple Sky Residences...</td>\n",
       "      <td>Vengaivasal, Chennai</td>\n",
       "      <td>82 L</td>\n",
       "      <td>1002</td>\n",
       "      <td>Ready to move</td>\n",
       "      <td>8200000.0</td>\n",
       "    </tr>\n",
       "    <tr>\n",
       "      <th>978</th>\n",
       "      <td>2 BHK Apartment in Doshi Risington 2</td>\n",
       "      <td>Karapakkam, Chennai</td>\n",
       "      <td>82.89 L</td>\n",
       "      <td>1106</td>\n",
       "      <td>Under Construction</td>\n",
       "      <td>8289000.0</td>\n",
       "    </tr>\n",
       "    <tr>\n",
       "      <th>979</th>\n",
       "      <td>2 BHK Apartment in Tulive Azpire</td>\n",
       "      <td>East Tambaram, Chennai</td>\n",
       "      <td>59.17 L</td>\n",
       "      <td>1225</td>\n",
       "      <td>Under Construction</td>\n",
       "      <td>5917000.0</td>\n",
       "    </tr>\n",
       "  </tbody>\n",
       "</table>\n",
       "<p>980 rows × 6 columns</p>\n",
       "</div>"
      ],
      "text/plain": [
       "                                             no_of_bhk  \\\n",
       "0                3 BHK Apartment in GP GP Homes Elanza   \n",
       "1                      3 BHK Apartment in Sagar Valley   \n",
       "2                2 BHK Apartment in Raunaq Garden Wood   \n",
       "3                   2 BHK Apartment in Hanu Aishwaryam   \n",
       "4    2 BHK Apartment in Saradeuz Olympus The Royal ...   \n",
       "..                                                 ...   \n",
       "975                  3 BHK Villa in VGN Pride De Villa   \n",
       "976             2 BHK Apartment in Silversky Lakeside3   \n",
       "977  2 BHK Apartment in Navins Maple Sky Residences...   \n",
       "978               2 BHK Apartment in Doshi Risington 2   \n",
       "979                   2 BHK Apartment in Tulive Azpire   \n",
       "\n",
       "                     address     price area_sq_ft              status  \\\n",
       "0      Mugalivakkam, Chennai   88.59 L      1305        Ready to move   \n",
       "1    Sholinganallur, Chennai      88 L      1600   Under Construction   \n",
       "2        Pallavaram, Chennai   71.55 L      1068        Ready to move   \n",
       "3       Perumbakkam, Chennai    56.9 L      1096   Under Construction   \n",
       "4       Perumbakkam, Chennai   55.36 L       900        Ready to move   \n",
       "..                       ...       ...        ...                 ...   \n",
       "975           Padur, Chennai   1.34 Cr      1692   Under Construction   \n",
       "976          Puzhal, Chennai   53.07 L       965        Ready to move   \n",
       "977     Vengaivasal, Chennai      82 L      1002        Ready to move   \n",
       "978      Karapakkam, Chennai   82.89 L      1106   Under Construction   \n",
       "979   East Tambaram, Chennai   59.17 L      1225   Under Construction   \n",
       "\n",
       "         amount  \n",
       "0     8859000.0  \n",
       "1     8800000.0  \n",
       "2     7155000.0  \n",
       "3     5690000.0  \n",
       "4     5536000.0  \n",
       "..          ...  \n",
       "975  13400000.0  \n",
       "976   5307000.0  \n",
       "977   8200000.0  \n",
       "978   8289000.0  \n",
       "979   5917000.0  \n",
       "\n",
       "[980 rows x 6 columns]"
      ]
     },
     "execution_count": 13,
     "metadata": {},
     "output_type": "execute_result"
    }
   ],
   "source": [
    "df"
   ]
  },
  {
   "cell_type": "code",
   "execution_count": 14,
   "id": "05ed4040",
   "metadata": {},
   "outputs": [
    {
     "data": {
      "text/plain": [
       "0       88.59 L\n",
       "1          88 L\n",
       "2       71.55 L\n",
       "3        56.9 L\n",
       "4       55.36 L\n",
       "         ...   \n",
       "975     1.34 Cr\n",
       "976     53.07 L\n",
       "977        82 L\n",
       "978     82.89 L\n",
       "979     59.17 L\n",
       "Name: price, Length: 980, dtype: object"
      ]
     },
     "execution_count": 14,
     "metadata": {},
     "output_type": "execute_result"
    }
   ],
   "source": [
    "df.pop(\"price\")"
   ]
  },
  {
   "cell_type": "code",
   "execution_count": 15,
   "id": "5f89bdb6",
   "metadata": {},
   "outputs": [
    {
     "data": {
      "text/html": [
       "<div>\n",
       "<style scoped>\n",
       "    .dataframe tbody tr th:only-of-type {\n",
       "        vertical-align: middle;\n",
       "    }\n",
       "\n",
       "    .dataframe tbody tr th {\n",
       "        vertical-align: top;\n",
       "    }\n",
       "\n",
       "    .dataframe thead th {\n",
       "        text-align: right;\n",
       "    }\n",
       "</style>\n",
       "<table border=\"1\" class=\"dataframe\">\n",
       "  <thead>\n",
       "    <tr style=\"text-align: right;\">\n",
       "      <th></th>\n",
       "      <th>no_of_bhk</th>\n",
       "      <th>address</th>\n",
       "      <th>area_sq_ft</th>\n",
       "      <th>status</th>\n",
       "      <th>amount</th>\n",
       "    </tr>\n",
       "  </thead>\n",
       "  <tbody>\n",
       "    <tr>\n",
       "      <th>0</th>\n",
       "      <td>3 BHK Apartment in GP GP Homes Elanza</td>\n",
       "      <td>Mugalivakkam, Chennai</td>\n",
       "      <td>1305</td>\n",
       "      <td>Ready to move</td>\n",
       "      <td>8859000.0</td>\n",
       "    </tr>\n",
       "    <tr>\n",
       "      <th>1</th>\n",
       "      <td>3 BHK Apartment in Sagar Valley</td>\n",
       "      <td>Sholinganallur, Chennai</td>\n",
       "      <td>1600</td>\n",
       "      <td>Under Construction</td>\n",
       "      <td>8800000.0</td>\n",
       "    </tr>\n",
       "    <tr>\n",
       "      <th>2</th>\n",
       "      <td>2 BHK Apartment in Raunaq Garden Wood</td>\n",
       "      <td>Pallavaram, Chennai</td>\n",
       "      <td>1068</td>\n",
       "      <td>Ready to move</td>\n",
       "      <td>7155000.0</td>\n",
       "    </tr>\n",
       "    <tr>\n",
       "      <th>3</th>\n",
       "      <td>2 BHK Apartment in Hanu Aishwaryam</td>\n",
       "      <td>Perumbakkam, Chennai</td>\n",
       "      <td>1096</td>\n",
       "      <td>Under Construction</td>\n",
       "      <td>5690000.0</td>\n",
       "    </tr>\n",
       "    <tr>\n",
       "      <th>4</th>\n",
       "      <td>2 BHK Apartment in Saradeuz Olympus The Royal ...</td>\n",
       "      <td>Perumbakkam, Chennai</td>\n",
       "      <td>900</td>\n",
       "      <td>Ready to move</td>\n",
       "      <td>5536000.0</td>\n",
       "    </tr>\n",
       "    <tr>\n",
       "      <th>...</th>\n",
       "      <td>...</td>\n",
       "      <td>...</td>\n",
       "      <td>...</td>\n",
       "      <td>...</td>\n",
       "      <td>...</td>\n",
       "    </tr>\n",
       "    <tr>\n",
       "      <th>975</th>\n",
       "      <td>3 BHK Villa in VGN Pride De Villa</td>\n",
       "      <td>Padur, Chennai</td>\n",
       "      <td>1692</td>\n",
       "      <td>Under Construction</td>\n",
       "      <td>13400000.0</td>\n",
       "    </tr>\n",
       "    <tr>\n",
       "      <th>976</th>\n",
       "      <td>2 BHK Apartment in Silversky Lakeside3</td>\n",
       "      <td>Puzhal, Chennai</td>\n",
       "      <td>965</td>\n",
       "      <td>Ready to move</td>\n",
       "      <td>5307000.0</td>\n",
       "    </tr>\n",
       "    <tr>\n",
       "      <th>977</th>\n",
       "      <td>2 BHK Apartment in Navins Maple Sky Residences...</td>\n",
       "      <td>Vengaivasal, Chennai</td>\n",
       "      <td>1002</td>\n",
       "      <td>Ready to move</td>\n",
       "      <td>8200000.0</td>\n",
       "    </tr>\n",
       "    <tr>\n",
       "      <th>978</th>\n",
       "      <td>2 BHK Apartment in Doshi Risington 2</td>\n",
       "      <td>Karapakkam, Chennai</td>\n",
       "      <td>1106</td>\n",
       "      <td>Under Construction</td>\n",
       "      <td>8289000.0</td>\n",
       "    </tr>\n",
       "    <tr>\n",
       "      <th>979</th>\n",
       "      <td>2 BHK Apartment in Tulive Azpire</td>\n",
       "      <td>East Tambaram, Chennai</td>\n",
       "      <td>1225</td>\n",
       "      <td>Under Construction</td>\n",
       "      <td>5917000.0</td>\n",
       "    </tr>\n",
       "  </tbody>\n",
       "</table>\n",
       "<p>980 rows × 5 columns</p>\n",
       "</div>"
      ],
      "text/plain": [
       "                                             no_of_bhk  \\\n",
       "0                3 BHK Apartment in GP GP Homes Elanza   \n",
       "1                      3 BHK Apartment in Sagar Valley   \n",
       "2                2 BHK Apartment in Raunaq Garden Wood   \n",
       "3                   2 BHK Apartment in Hanu Aishwaryam   \n",
       "4    2 BHK Apartment in Saradeuz Olympus The Royal ...   \n",
       "..                                                 ...   \n",
       "975                  3 BHK Villa in VGN Pride De Villa   \n",
       "976             2 BHK Apartment in Silversky Lakeside3   \n",
       "977  2 BHK Apartment in Navins Maple Sky Residences...   \n",
       "978               2 BHK Apartment in Doshi Risington 2   \n",
       "979                   2 BHK Apartment in Tulive Azpire   \n",
       "\n",
       "                     address area_sq_ft              status      amount  \n",
       "0      Mugalivakkam, Chennai      1305        Ready to move   8859000.0  \n",
       "1    Sholinganallur, Chennai      1600   Under Construction   8800000.0  \n",
       "2        Pallavaram, Chennai      1068        Ready to move   7155000.0  \n",
       "3       Perumbakkam, Chennai      1096   Under Construction   5690000.0  \n",
       "4       Perumbakkam, Chennai       900        Ready to move   5536000.0  \n",
       "..                       ...        ...                 ...         ...  \n",
       "975           Padur, Chennai      1692   Under Construction  13400000.0  \n",
       "976          Puzhal, Chennai       965        Ready to move   5307000.0  \n",
       "977     Vengaivasal, Chennai      1002        Ready to move   8200000.0  \n",
       "978      Karapakkam, Chennai      1106   Under Construction   8289000.0  \n",
       "979   East Tambaram, Chennai      1225   Under Construction   5917000.0  \n",
       "\n",
       "[980 rows x 5 columns]"
      ]
     },
     "execution_count": 15,
     "metadata": {},
     "output_type": "execute_result"
    }
   ],
   "source": [
    "df"
   ]
  },
  {
   "cell_type": "code",
   "execution_count": 16,
   "id": "94d13861",
   "metadata": {},
   "outputs": [],
   "source": [
    "#Function to extract the leading numeric part\n",
    "def extract_leading_numeric(value):\n",
    "    match = re.match(r'^\\d+', value)  \n",
    "    return match.group(0) if match else '' \n",
    "df['bhk'] = df['no_of_bhk'].apply(extract_leading_numeric)"
   ]
  },
  {
   "cell_type": "code",
   "execution_count": 17,
   "id": "3bf1278c",
   "metadata": {},
   "outputs": [
    {
     "data": {
      "text/html": [
       "<div>\n",
       "<style scoped>\n",
       "    .dataframe tbody tr th:only-of-type {\n",
       "        vertical-align: middle;\n",
       "    }\n",
       "\n",
       "    .dataframe tbody tr th {\n",
       "        vertical-align: top;\n",
       "    }\n",
       "\n",
       "    .dataframe thead th {\n",
       "        text-align: right;\n",
       "    }\n",
       "</style>\n",
       "<table border=\"1\" class=\"dataframe\">\n",
       "  <thead>\n",
       "    <tr style=\"text-align: right;\">\n",
       "      <th></th>\n",
       "      <th>no_of_bhk</th>\n",
       "      <th>address</th>\n",
       "      <th>area_sq_ft</th>\n",
       "      <th>status</th>\n",
       "      <th>amount</th>\n",
       "      <th>bhk</th>\n",
       "    </tr>\n",
       "  </thead>\n",
       "  <tbody>\n",
       "    <tr>\n",
       "      <th>970</th>\n",
       "      <td>2 BHK Apartment in Space The Rise</td>\n",
       "      <td>Kolathur, Chennai</td>\n",
       "      <td>827</td>\n",
       "      <td>Ready to move</td>\n",
       "      <td>4796000.0</td>\n",
       "      <td>2</td>\n",
       "    </tr>\n",
       "    <tr>\n",
       "      <th>971</th>\n",
       "      <td>2 BHK Apartment in LML Iconia</td>\n",
       "      <td>Kattupakkam, Chennai</td>\n",
       "      <td>1044</td>\n",
       "      <td>Ready to move</td>\n",
       "      <td>6476000.0</td>\n",
       "      <td>2</td>\n",
       "    </tr>\n",
       "    <tr>\n",
       "      <th>972</th>\n",
       "      <td>3 BHK Villa in Anugraha Aashirwad</td>\n",
       "      <td>Poonamallee, Chennai</td>\n",
       "      <td>1800</td>\n",
       "      <td>Under Construction</td>\n",
       "      <td>9000000.0</td>\n",
       "      <td>3</td>\n",
       "    </tr>\n",
       "    <tr>\n",
       "      <th>973</th>\n",
       "      <td>3 BHK Apartment in Royal Elite</td>\n",
       "      <td>Iyyappanthangal, Chennai</td>\n",
       "      <td>1118</td>\n",
       "      <td>Under Construction</td>\n",
       "      <td>7043000.0</td>\n",
       "      <td>3</td>\n",
       "    </tr>\n",
       "    <tr>\n",
       "      <th>974</th>\n",
       "      <td>3 BHK Apartment in Newry Astor</td>\n",
       "      <td>Avadi, Chennai</td>\n",
       "      <td>1426</td>\n",
       "      <td>Under Construction</td>\n",
       "      <td>8447000.0</td>\n",
       "      <td>3</td>\n",
       "    </tr>\n",
       "    <tr>\n",
       "      <th>975</th>\n",
       "      <td>3 BHK Villa in VGN Pride De Villa</td>\n",
       "      <td>Padur, Chennai</td>\n",
       "      <td>1692</td>\n",
       "      <td>Under Construction</td>\n",
       "      <td>13400000.0</td>\n",
       "      <td>3</td>\n",
       "    </tr>\n",
       "    <tr>\n",
       "      <th>976</th>\n",
       "      <td>2 BHK Apartment in Silversky Lakeside3</td>\n",
       "      <td>Puzhal, Chennai</td>\n",
       "      <td>965</td>\n",
       "      <td>Ready to move</td>\n",
       "      <td>5307000.0</td>\n",
       "      <td>2</td>\n",
       "    </tr>\n",
       "    <tr>\n",
       "      <th>977</th>\n",
       "      <td>2 BHK Apartment in Navins Maple Sky Residences...</td>\n",
       "      <td>Vengaivasal, Chennai</td>\n",
       "      <td>1002</td>\n",
       "      <td>Ready to move</td>\n",
       "      <td>8200000.0</td>\n",
       "      <td>2</td>\n",
       "    </tr>\n",
       "    <tr>\n",
       "      <th>978</th>\n",
       "      <td>2 BHK Apartment in Doshi Risington 2</td>\n",
       "      <td>Karapakkam, Chennai</td>\n",
       "      <td>1106</td>\n",
       "      <td>Under Construction</td>\n",
       "      <td>8289000.0</td>\n",
       "      <td>2</td>\n",
       "    </tr>\n",
       "    <tr>\n",
       "      <th>979</th>\n",
       "      <td>2 BHK Apartment in Tulive Azpire</td>\n",
       "      <td>East Tambaram, Chennai</td>\n",
       "      <td>1225</td>\n",
       "      <td>Under Construction</td>\n",
       "      <td>5917000.0</td>\n",
       "      <td>2</td>\n",
       "    </tr>\n",
       "  </tbody>\n",
       "</table>\n",
       "</div>"
      ],
      "text/plain": [
       "                                             no_of_bhk  \\\n",
       "970                  2 BHK Apartment in Space The Rise   \n",
       "971                      2 BHK Apartment in LML Iconia   \n",
       "972                  3 BHK Villa in Anugraha Aashirwad   \n",
       "973                     3 BHK Apartment in Royal Elite   \n",
       "974                     3 BHK Apartment in Newry Astor   \n",
       "975                  3 BHK Villa in VGN Pride De Villa   \n",
       "976             2 BHK Apartment in Silversky Lakeside3   \n",
       "977  2 BHK Apartment in Navins Maple Sky Residences...   \n",
       "978               2 BHK Apartment in Doshi Risington 2   \n",
       "979                   2 BHK Apartment in Tulive Azpire   \n",
       "\n",
       "                      address area_sq_ft              status      amount bhk  \n",
       "970         Kolathur, Chennai       827        Ready to move   4796000.0   2  \n",
       "971      Kattupakkam, Chennai      1044        Ready to move   6476000.0   2  \n",
       "972      Poonamallee, Chennai      1800   Under Construction   9000000.0   3  \n",
       "973  Iyyappanthangal, Chennai      1118   Under Construction   7043000.0   3  \n",
       "974            Avadi, Chennai      1426   Under Construction   8447000.0   3  \n",
       "975            Padur, Chennai      1692   Under Construction  13400000.0   3  \n",
       "976           Puzhal, Chennai       965        Ready to move   5307000.0   2  \n",
       "977      Vengaivasal, Chennai      1002        Ready to move   8200000.0   2  \n",
       "978       Karapakkam, Chennai      1106   Under Construction   8289000.0   2  \n",
       "979    East Tambaram, Chennai      1225   Under Construction   5917000.0   2  "
      ]
     },
     "execution_count": 17,
     "metadata": {},
     "output_type": "execute_result"
    }
   ],
   "source": [
    "df.tail(10)"
   ]
  },
  {
   "cell_type": "code",
   "execution_count": 18,
   "id": "74260c64",
   "metadata": {},
   "outputs": [
    {
     "data": {
      "text/plain": [
       "0                  3 BHK Apartment in GP GP Homes Elanza\n",
       "1                        3 BHK Apartment in Sagar Valley\n",
       "2                  2 BHK Apartment in Raunaq Garden Wood\n",
       "3                     2 BHK Apartment in Hanu Aishwaryam\n",
       "4      2 BHK Apartment in Saradeuz Olympus The Royal ...\n",
       "                             ...                        \n",
       "975                    3 BHK Villa in VGN Pride De Villa\n",
       "976               2 BHK Apartment in Silversky Lakeside3\n",
       "977    2 BHK Apartment in Navins Maple Sky Residences...\n",
       "978                 2 BHK Apartment in Doshi Risington 2\n",
       "979                     2 BHK Apartment in Tulive Azpire\n",
       "Name: no_of_bhk, Length: 980, dtype: object"
      ]
     },
     "execution_count": 18,
     "metadata": {},
     "output_type": "execute_result"
    }
   ],
   "source": [
    "df.pop(\"no_of_bhk\")"
   ]
  },
  {
   "cell_type": "code",
   "execution_count": 19,
   "id": "95063b5b",
   "metadata": {},
   "outputs": [
    {
     "data": {
      "text/html": [
       "<div>\n",
       "<style scoped>\n",
       "    .dataframe tbody tr th:only-of-type {\n",
       "        vertical-align: middle;\n",
       "    }\n",
       "\n",
       "    .dataframe tbody tr th {\n",
       "        vertical-align: top;\n",
       "    }\n",
       "\n",
       "    .dataframe thead th {\n",
       "        text-align: right;\n",
       "    }\n",
       "</style>\n",
       "<table border=\"1\" class=\"dataframe\">\n",
       "  <thead>\n",
       "    <tr style=\"text-align: right;\">\n",
       "      <th></th>\n",
       "      <th>address</th>\n",
       "      <th>area_sq_ft</th>\n",
       "      <th>status</th>\n",
       "      <th>amount</th>\n",
       "      <th>bhk</th>\n",
       "    </tr>\n",
       "  </thead>\n",
       "  <tbody>\n",
       "    <tr>\n",
       "      <th>0</th>\n",
       "      <td>Mugalivakkam, Chennai</td>\n",
       "      <td>1305</td>\n",
       "      <td>Ready to move</td>\n",
       "      <td>8859000.0</td>\n",
       "      <td>3</td>\n",
       "    </tr>\n",
       "    <tr>\n",
       "      <th>1</th>\n",
       "      <td>Sholinganallur, Chennai</td>\n",
       "      <td>1600</td>\n",
       "      <td>Under Construction</td>\n",
       "      <td>8800000.0</td>\n",
       "      <td>3</td>\n",
       "    </tr>\n",
       "    <tr>\n",
       "      <th>2</th>\n",
       "      <td>Pallavaram, Chennai</td>\n",
       "      <td>1068</td>\n",
       "      <td>Ready to move</td>\n",
       "      <td>7155000.0</td>\n",
       "      <td>2</td>\n",
       "    </tr>\n",
       "    <tr>\n",
       "      <th>3</th>\n",
       "      <td>Perumbakkam, Chennai</td>\n",
       "      <td>1096</td>\n",
       "      <td>Under Construction</td>\n",
       "      <td>5690000.0</td>\n",
       "      <td>2</td>\n",
       "    </tr>\n",
       "    <tr>\n",
       "      <th>4</th>\n",
       "      <td>Perumbakkam, Chennai</td>\n",
       "      <td>900</td>\n",
       "      <td>Ready to move</td>\n",
       "      <td>5536000.0</td>\n",
       "      <td>2</td>\n",
       "    </tr>\n",
       "    <tr>\n",
       "      <th>...</th>\n",
       "      <td>...</td>\n",
       "      <td>...</td>\n",
       "      <td>...</td>\n",
       "      <td>...</td>\n",
       "      <td>...</td>\n",
       "    </tr>\n",
       "    <tr>\n",
       "      <th>975</th>\n",
       "      <td>Padur, Chennai</td>\n",
       "      <td>1692</td>\n",
       "      <td>Under Construction</td>\n",
       "      <td>13400000.0</td>\n",
       "      <td>3</td>\n",
       "    </tr>\n",
       "    <tr>\n",
       "      <th>976</th>\n",
       "      <td>Puzhal, Chennai</td>\n",
       "      <td>965</td>\n",
       "      <td>Ready to move</td>\n",
       "      <td>5307000.0</td>\n",
       "      <td>2</td>\n",
       "    </tr>\n",
       "    <tr>\n",
       "      <th>977</th>\n",
       "      <td>Vengaivasal, Chennai</td>\n",
       "      <td>1002</td>\n",
       "      <td>Ready to move</td>\n",
       "      <td>8200000.0</td>\n",
       "      <td>2</td>\n",
       "    </tr>\n",
       "    <tr>\n",
       "      <th>978</th>\n",
       "      <td>Karapakkam, Chennai</td>\n",
       "      <td>1106</td>\n",
       "      <td>Under Construction</td>\n",
       "      <td>8289000.0</td>\n",
       "      <td>2</td>\n",
       "    </tr>\n",
       "    <tr>\n",
       "      <th>979</th>\n",
       "      <td>East Tambaram, Chennai</td>\n",
       "      <td>1225</td>\n",
       "      <td>Under Construction</td>\n",
       "      <td>5917000.0</td>\n",
       "      <td>2</td>\n",
       "    </tr>\n",
       "  </tbody>\n",
       "</table>\n",
       "<p>980 rows × 5 columns</p>\n",
       "</div>"
      ],
      "text/plain": [
       "                     address area_sq_ft              status      amount bhk\n",
       "0      Mugalivakkam, Chennai      1305        Ready to move   8859000.0   3\n",
       "1    Sholinganallur, Chennai      1600   Under Construction   8800000.0   3\n",
       "2        Pallavaram, Chennai      1068        Ready to move   7155000.0   2\n",
       "3       Perumbakkam, Chennai      1096   Under Construction   5690000.0   2\n",
       "4       Perumbakkam, Chennai       900        Ready to move   5536000.0   2\n",
       "..                       ...        ...                 ...         ...  ..\n",
       "975           Padur, Chennai      1692   Under Construction  13400000.0   3\n",
       "976          Puzhal, Chennai       965        Ready to move   5307000.0   2\n",
       "977     Vengaivasal, Chennai      1002        Ready to move   8200000.0   2\n",
       "978      Karapakkam, Chennai      1106   Under Construction   8289000.0   2\n",
       "979   East Tambaram, Chennai      1225   Under Construction   5917000.0   2\n",
       "\n",
       "[980 rows x 5 columns]"
      ]
     },
     "execution_count": 19,
     "metadata": {},
     "output_type": "execute_result"
    }
   ],
   "source": [
    "df"
   ]
  },
  {
   "cell_type": "code",
   "execution_count": 20,
   "id": "d942d9c5",
   "metadata": {},
   "outputs": [
    {
     "data": {
      "text/plain": [
       "address       0\n",
       "area_sq_ft    0\n",
       "status        0\n",
       "amount        0\n",
       "bhk           0\n",
       "dtype: int64"
      ]
     },
     "execution_count": 20,
     "metadata": {},
     "output_type": "execute_result"
    }
   ],
   "source": [
    "df.isnull().sum()"
   ]
  },
  {
   "cell_type": "code",
   "execution_count": 21,
   "id": "3a7c91f9",
   "metadata": {},
   "outputs": [
    {
     "name": "stdout",
     "output_type": "stream",
     "text": [
      "<class 'pandas.core.frame.DataFrame'>\n",
      "RangeIndex: 980 entries, 0 to 979\n",
      "Data columns (total 5 columns):\n",
      " #   Column      Non-Null Count  Dtype  \n",
      "---  ------      --------------  -----  \n",
      " 0   address     980 non-null    object \n",
      " 1   area_sq_ft  980 non-null    object \n",
      " 2   status      980 non-null    object \n",
      " 3   amount      980 non-null    float64\n",
      " 4   bhk         980 non-null    object \n",
      "dtypes: float64(1), object(4)\n",
      "memory usage: 38.4+ KB\n"
     ]
    }
   ],
   "source": [
    "df.info()"
   ]
  },
  {
   "cell_type": "code",
   "execution_count": 22,
   "id": "60649d6d",
   "metadata": {},
   "outputs": [
    {
     "data": {
      "text/html": [
       "<div>\n",
       "<style scoped>\n",
       "    .dataframe tbody tr th:only-of-type {\n",
       "        vertical-align: middle;\n",
       "    }\n",
       "\n",
       "    .dataframe tbody tr th {\n",
       "        vertical-align: top;\n",
       "    }\n",
       "\n",
       "    .dataframe thead th {\n",
       "        text-align: right;\n",
       "    }\n",
       "</style>\n",
       "<table border=\"1\" class=\"dataframe\">\n",
       "  <thead>\n",
       "    <tr style=\"text-align: right;\">\n",
       "      <th></th>\n",
       "      <th>address</th>\n",
       "      <th>area_sq_ft</th>\n",
       "      <th>status</th>\n",
       "      <th>amount</th>\n",
       "      <th>bhk</th>\n",
       "    </tr>\n",
       "  </thead>\n",
       "  <tbody>\n",
       "    <tr>\n",
       "      <th>0</th>\n",
       "      <td>Mugalivakkam, Chennai</td>\n",
       "      <td>1305</td>\n",
       "      <td>Ready to move</td>\n",
       "      <td>8859000</td>\n",
       "      <td>3</td>\n",
       "    </tr>\n",
       "    <tr>\n",
       "      <th>1</th>\n",
       "      <td>Sholinganallur, Chennai</td>\n",
       "      <td>1600</td>\n",
       "      <td>Under Construction</td>\n",
       "      <td>8800000</td>\n",
       "      <td>3</td>\n",
       "    </tr>\n",
       "    <tr>\n",
       "      <th>2</th>\n",
       "      <td>Pallavaram, Chennai</td>\n",
       "      <td>1068</td>\n",
       "      <td>Ready to move</td>\n",
       "      <td>7155000</td>\n",
       "      <td>2</td>\n",
       "    </tr>\n",
       "    <tr>\n",
       "      <th>3</th>\n",
       "      <td>Perumbakkam, Chennai</td>\n",
       "      <td>1096</td>\n",
       "      <td>Under Construction</td>\n",
       "      <td>5690000</td>\n",
       "      <td>2</td>\n",
       "    </tr>\n",
       "    <tr>\n",
       "      <th>4</th>\n",
       "      <td>Perumbakkam, Chennai</td>\n",
       "      <td>900</td>\n",
       "      <td>Ready to move</td>\n",
       "      <td>5536000</td>\n",
       "      <td>2</td>\n",
       "    </tr>\n",
       "    <tr>\n",
       "      <th>...</th>\n",
       "      <td>...</td>\n",
       "      <td>...</td>\n",
       "      <td>...</td>\n",
       "      <td>...</td>\n",
       "      <td>...</td>\n",
       "    </tr>\n",
       "    <tr>\n",
       "      <th>975</th>\n",
       "      <td>Padur, Chennai</td>\n",
       "      <td>1692</td>\n",
       "      <td>Under Construction</td>\n",
       "      <td>13400000</td>\n",
       "      <td>3</td>\n",
       "    </tr>\n",
       "    <tr>\n",
       "      <th>976</th>\n",
       "      <td>Puzhal, Chennai</td>\n",
       "      <td>965</td>\n",
       "      <td>Ready to move</td>\n",
       "      <td>5307000</td>\n",
       "      <td>2</td>\n",
       "    </tr>\n",
       "    <tr>\n",
       "      <th>977</th>\n",
       "      <td>Vengaivasal, Chennai</td>\n",
       "      <td>1002</td>\n",
       "      <td>Ready to move</td>\n",
       "      <td>8200000</td>\n",
       "      <td>2</td>\n",
       "    </tr>\n",
       "    <tr>\n",
       "      <th>978</th>\n",
       "      <td>Karapakkam, Chennai</td>\n",
       "      <td>1106</td>\n",
       "      <td>Under Construction</td>\n",
       "      <td>8289000</td>\n",
       "      <td>2</td>\n",
       "    </tr>\n",
       "    <tr>\n",
       "      <th>979</th>\n",
       "      <td>East Tambaram, Chennai</td>\n",
       "      <td>1225</td>\n",
       "      <td>Under Construction</td>\n",
       "      <td>5917000</td>\n",
       "      <td>2</td>\n",
       "    </tr>\n",
       "  </tbody>\n",
       "</table>\n",
       "<p>980 rows × 5 columns</p>\n",
       "</div>"
      ],
      "text/plain": [
       "                     address  area_sq_ft              status    amount bhk\n",
       "0      Mugalivakkam, Chennai        1305       Ready to move   8859000   3\n",
       "1    Sholinganallur, Chennai        1600  Under Construction   8800000   3\n",
       "2        Pallavaram, Chennai        1068       Ready to move   7155000   2\n",
       "3       Perumbakkam, Chennai        1096  Under Construction   5690000   2\n",
       "4       Perumbakkam, Chennai         900       Ready to move   5536000   2\n",
       "..                       ...         ...                 ...       ...  ..\n",
       "975           Padur, Chennai        1692  Under Construction  13400000   3\n",
       "976          Puzhal, Chennai         965       Ready to move   5307000   2\n",
       "977     Vengaivasal, Chennai        1002       Ready to move   8200000   2\n",
       "978      Karapakkam, Chennai        1106  Under Construction   8289000   2\n",
       "979   East Tambaram, Chennai        1225  Under Construction   5917000   2\n",
       "\n",
       "[980 rows x 5 columns]"
      ]
     },
     "execution_count": 22,
     "metadata": {},
     "output_type": "execute_result"
    }
   ],
   "source": [
    "df = df.astype({'area_sq_ft': int, 'bhk': str,\"amount\":int})\n",
    "df"
   ]
  },
  {
   "cell_type": "code",
   "execution_count": 23,
   "id": "2435f097",
   "metadata": {},
   "outputs": [
    {
     "name": "stdout",
     "output_type": "stream",
     "text": [
      "<class 'pandas.core.frame.DataFrame'>\n",
      "RangeIndex: 980 entries, 0 to 979\n",
      "Data columns (total 5 columns):\n",
      " #   Column      Non-Null Count  Dtype \n",
      "---  ------      --------------  ----- \n",
      " 0   address     980 non-null    object\n",
      " 1   area_sq_ft  980 non-null    int32 \n",
      " 2   status      980 non-null    object\n",
      " 3   amount      980 non-null    int32 \n",
      " 4   bhk         980 non-null    object\n",
      "dtypes: int32(2), object(3)\n",
      "memory usage: 30.8+ KB\n"
     ]
    }
   ],
   "source": [
    "df.info()"
   ]
  },
  {
   "cell_type": "code",
   "execution_count": 24,
   "id": "10959814",
   "metadata": {},
   "outputs": [],
   "source": [
    "discrete_df = df.select_dtypes(include=['object'])\n",
    "def discrete_univariate_analysis(discrete_data):\n",
    "  for col_name in discrete_data:\n",
    "    print(\"*\"*10, col_name, \"*\"*10)\n",
    "    print(discrete_data[col_name].agg(['count', 'nunique', 'unique']))\n",
    "    print('Value Counts: \\n', discrete_data[col_name].value_counts())\n",
    "    print()"
   ]
  },
  {
   "cell_type": "code",
   "execution_count": 25,
   "id": "a2f197a8",
   "metadata": {},
   "outputs": [
    {
     "name": "stdout",
     "output_type": "stream",
     "text": [
      "********** address **********\n",
      "count                                                    980\n",
      "nunique                                                   18\n",
      "unique     [Mugalivakkam, Chennai, Sholinganallur, Chenna...\n",
      "Name: address, dtype: object\n",
      "Value Counts: \n",
      " Perumbakkam, Chennai        98\n",
      "Kolathur, Chennai           98\n",
      "Mugalivakkam, Chennai       49\n",
      "Poonamallee, Chennai        49\n",
      "Karapakkam, Chennai         49\n",
      "Vengaivasal, Chennai        49\n",
      "Puzhal, Chennai             49\n",
      "Padur, Chennai              49\n",
      "Avadi, Chennai              49\n",
      "Iyyappanthangal, Chennai    49\n",
      "Kattupakkam, Chennai        49\n",
      "Sholinganallur, Chennai     49\n",
      "Thiruvanmiyur, Chennai      49\n",
      "Nungambakkam, Chennai       49\n",
      "Egmore, Chennai             49\n",
      "Guindy, Chennai             49\n",
      "Pallavaram, Chennai         49\n",
      "East Tambaram, Chennai      49\n",
      "Name: address, dtype: int64\n",
      "\n",
      "********** status **********\n",
      "count                                      980\n",
      "nunique                                      2\n",
      "unique     [Ready to move, Under Construction]\n",
      "Name: status, dtype: object\n",
      "Value Counts: \n",
      " Under Construction    539\n",
      "Ready to move         441\n",
      "Name: status, dtype: int64\n",
      "\n",
      "********** bhk **********\n",
      "count            980\n",
      "nunique            3\n",
      "unique     [3, 2, 4]\n",
      "Name: bhk, dtype: object\n",
      "Value Counts: \n",
      " 2    490\n",
      "3    441\n",
      "4     49\n",
      "Name: bhk, dtype: int64\n",
      "\n"
     ]
    }
   ],
   "source": [
    "discrete_univariate_analysis(discrete_df)"
   ]
  },
  {
   "cell_type": "code",
   "execution_count": 26,
   "id": "516790a9",
   "metadata": {},
   "outputs": [],
   "source": [
    "numerical_df = df.select_dtypes(include=['int32'])\n",
    "def numerical_univariate_analysis(numerical_data):\n",
    "  for col_name in numerical_data:\n",
    "    print(\"*\"*10, col_name, \"*\"*10)\n",
    "    print(numerical_data[col_name].agg(['min', 'max', 'mean', 'median', 'std','skew','kurt']))\n",
    "    print()"
   ]
  },
  {
   "cell_type": "code",
   "execution_count": 27,
   "id": "4cc785e8",
   "metadata": {},
   "outputs": [
    {
     "name": "stdout",
     "output_type": "stream",
     "text": [
      "********** area_sq_ft **********\n",
      "min        780.000000\n",
      "max       3442.000000\n",
      "mean      1390.150000\n",
      "median    1171.500000\n",
      "std        596.034592\n",
      "skew         2.024372\n",
      "kurt         4.427193\n",
      "Name: area_sq_ft, dtype: float64\n",
      "\n",
      "********** amount **********\n",
      "min       4.796000e+06\n",
      "max       5.850000e+07\n",
      "mean      1.326775e+07\n",
      "median    8.244500e+06\n",
      "std       1.354998e+07\n",
      "skew      2.248873e+00\n",
      "kurt      4.103175e+00\n",
      "Name: amount, dtype: float64\n",
      "\n"
     ]
    }
   ],
   "source": [
    "numerical_univariate_analysis(numerical_df)"
   ]
  },
  {
   "cell_type": "code",
   "execution_count": 28,
   "id": "7435257c",
   "metadata": {},
   "outputs": [
    {
     "name": "stdout",
     "output_type": "stream",
     "text": [
      "<class 'pandas.core.frame.DataFrame'>\n",
      "RangeIndex: 980 entries, 0 to 979\n",
      "Data columns (total 5 columns):\n",
      " #   Column      Non-Null Count  Dtype \n",
      "---  ------      --------------  ----- \n",
      " 0   address     980 non-null    object\n",
      " 1   area_sq_ft  980 non-null    int32 \n",
      " 2   status      980 non-null    object\n",
      " 3   amount      980 non-null    int32 \n",
      " 4   bhk         980 non-null    object\n",
      "dtypes: int32(2), object(3)\n",
      "memory usage: 30.8+ KB\n"
     ]
    }
   ],
   "source": [
    "df.info()"
   ]
  },
  {
   "cell_type": "code",
   "execution_count": 29,
   "id": "7799db09",
   "metadata": {},
   "outputs": [
    {
     "data": {
      "text/plain": [
       "array(['3', '2', '4'], dtype=object)"
      ]
     },
     "execution_count": 29,
     "metadata": {},
     "output_type": "execute_result"
    }
   ],
   "source": [
    "df[\"bhk\"].unique()"
   ]
  },
  {
   "cell_type": "code",
   "execution_count": 30,
   "id": "046b6d0c",
   "metadata": {},
   "outputs": [],
   "source": [
    "import seaborn as sns\n",
    "import matplotlib.pyplot as plt"
   ]
  },
  {
   "cell_type": "code",
   "execution_count": 31,
   "id": "ad2663fc",
   "metadata": {},
   "outputs": [
    {
     "data": {
      "text/plain": [
       "<Axes: xlabel='bhk', ylabel='count'>"
      ]
     },
     "execution_count": 31,
     "metadata": {},
     "output_type": "execute_result"
    },
    {
     "data": {
      "image/png": "[encoded data removed]",
      "text/plain": [
       "<Figure size 640x480 with 1 Axes>"
      ]
     },
     "metadata": {},
     "output_type": "display_data"
    }
   ],
   "source": [
    "sns.countplot(x='bhk', data=df)"
   ]
  },
  {
   "cell_type": "code",
   "execution_count": 32,
   "id": "076f3768",
   "metadata": {},
   "outputs": [
    {
     "data": {
      "image/png": "[encoded data removed]",
      "text/plain": [
       "<Figure size 640x480 with 1 Axes>"
      ]
     },
     "metadata": {},
     "output_type": "display_data"
    }
   ],
   "source": [
    "from scipy import stats\n",
    "import matplotlib.pyplot as plt\n",
    "stats.probplot(df[\"amount\"],dist=\"norm\",plot=plt)\n",
    "plt.grid()"
   ]
  },
  {
   "cell_type": "code",
   "execution_count": 34,
   "id": "b8ca0f27",
   "metadata": {},
   "outputs": [
    {
     "data": {
      "text/plain": [
       "<Axes: xlabel='amount'>"
      ]
     },
     "execution_count": 34,
     "metadata": {},
     "output_type": "execute_result"
    },
    {
     "data": {
      "image/png": "[encoded data removed]",
      "text/plain": [
       "<Figure size 640x480 with 1 Axes>"
      ]
     },
     "metadata": {},
     "output_type": "display_data"
    }
   ],
   "source": [
    "sns.boxplot(x=\"amount\",data=df)"
   ]
  },
  {
   "cell_type": "code",
   "execution_count": 51,
   "id": "d5cc3c12",
   "metadata": {},
   "outputs": [
    {
     "data": {
      "text/plain": [
       "<Axes: xlabel='bhk', ylabel='count'>"
      ]
     },
     "execution_count": 51,
     "metadata": {},
     "output_type": "execute_result"
    },
    {
     "data": {
      "image/png": "[encoded data removed]",
      "text/plain": [
       "<Figure size 640x480 with 1 Axes>"
      ]
     },
     "metadata": {},
     "output_type": "display_data"
    }
   ],
   "source": [
    "sns.countplot(data=df,x=\"bhk\")"
   ]
  },
  {
   "cell_type": "code",
   "execution_count": 53,
   "id": "8066eec7",
   "metadata": {},
   "outputs": [
    {
     "data": {
      "image/png": "[encoded data removed]",
      "text/plain": [
       "<Figure size 640x480 with 1 Axes>"
      ]
     },
     "metadata": {},
     "output_type": "display_data"
    }
   ],
   "source": [
    "stats.probplot(df[\"amount\"],dist=\"norm\",plot=plt)\n",
    "plt.grid()"
   ]
  },
  {
   "cell_type": "code",
   "execution_count": 54,
   "id": "f45773b2",
   "metadata": {},
   "outputs": [
    {
     "data": {
      "text/plain": [
       "<Axes: xlabel='amount', ylabel='Density'>"
      ]
     },
     "execution_count": 54,
     "metadata": {},
     "output_type": "execute_result"
    },
    {
     "data": {
      "image/png": "[encoded data removed]",
      "text/plain": [
       "<Figure size 640x480 with 1 Axes>"
      ]
     },
     "metadata": {},
     "output_type": "display_data"
    }
   ],
   "source": [
    "sns.kdeplot(x=\"amount\",data=df)"
   ]
  },
  {
   "cell_type": "code",
   "execution_count": 55,
   "id": "8f36ecd8",
   "metadata": {},
   "outputs": [
    {
     "data": {
      "text/plain": [
       "<Axes: xlabel='status', ylabel='count'>"
      ]
     },
     "execution_count": 55,
     "metadata": {},
     "output_type": "execute_result"
    },
    {
     "data": {
      "image/png": "[encoded data removed]",
      "text/plain": [
       "<Figure size 640x480 with 1 Axes>"
      ]
     },
     "metadata": {},
     "output_type": "display_data"
    }
   ],
   "source": [
    "sns.countplot(data=df,x=\"status\")"
   ]
  },
  {
   "cell_type": "code",
   "execution_count": 56,
   "id": "a7c72815",
   "metadata": {},
   "outputs": [
    {
     "data": {
      "text/plain": [
       "<Axes: xlabel='area_sq_ft'>"
      ]
     },
     "execution_count": 56,
     "metadata": {},
     "output_type": "execute_result"
    },
    {
     "data": {
      "image/png": "[encoded data removed]",
      "text/plain": [
       "<Figure size 640x480 with 1 Axes>"
      ]
     },
     "metadata": {},
     "output_type": "display_data"
    }
   ],
   "source": [
    "sns.boxenplot(data=df,x=\"area_sq_ft\")"
   ]
  },
  {
   "cell_type": "code",
   "execution_count": 57,
   "id": "3a1775e0",
   "metadata": {},
   "outputs": [
    {
     "name": "stdout",
     "output_type": "stream",
     "text": [
      "<class 'pandas.core.frame.DataFrame'>\n",
      "RangeIndex: 980 entries, 0 to 979\n",
      "Data columns (total 5 columns):\n",
      " #   Column      Non-Null Count  Dtype \n",
      "---  ------      --------------  ----- \n",
      " 0   address     980 non-null    object\n",
      " 1   area_sq_ft  980 non-null    int32 \n",
      " 2   status      980 non-null    object\n",
      " 3   amount      980 non-null    int32 \n",
      " 4   bhk         980 non-null    object\n",
      "dtypes: int32(2), object(3)\n",
      "memory usage: 30.8+ KB\n"
     ]
    }
   ],
   "source": [
    "df.info()"
   ]
  },
  {
   "cell_type": "code",
   "execution_count": 58,
   "id": "20f0c769",
   "metadata": {},
   "outputs": [
    {
     "name": "stdout",
     "output_type": "stream",
     "text": [
      "bhk                        2   3   4\n",
      "address                             \n",
      "Avadi, Chennai             0  49   0\n",
      "East Tambaram, Chennai    49   0   0\n",
      "Egmore, Chennai            0   0  49\n",
      "Guindy, Chennai            0  49   0\n",
      "Iyyappanthangal, Chennai   0  49   0\n",
      "Karapakkam, Chennai       49   0   0\n",
      "Kattupakkam, Chennai      49   0   0\n",
      "Kolathur, Chennai         98   0   0\n",
      "Mugalivakkam, Chennai      0  49   0\n",
      "Nungambakkam, Chennai      0  49   0\n",
      "Padur, Chennai             0  49   0\n",
      "Pallavaram, Chennai       49   0   0\n",
      "Perumbakkam, Chennai      98   0   0\n",
      "Poonamallee, Chennai       0  49   0\n",
      "Puzhal, Chennai           49   0   0\n",
      "Sholinganallur, Chennai    0  49   0\n",
      "Thiruvanmiyur, Chennai     0  49   0\n",
      "Vengaivasal, Chennai      49   0   0\n"
     ]
    }
   ],
   "source": [
    "crosstab = pd.crosstab(df['address'], df['bhk'])\n",
    "\n",
    "print(crosstab)"
   ]
  },
  {
   "cell_type": "code",
   "execution_count": 67,
   "id": "44db14bf",
   "metadata": {},
   "outputs": [
    {
     "data": {
      "text/plain": [
       "<Axes: xlabel='address', ylabel='count'>"
      ]
     },
     "execution_count": 67,
     "metadata": {},
     "output_type": "execute_result"
    },
    {
     "data": {
      "image/png": "[encoded data removed]",
      "text/plain": [
       "<Figure size 640x480 with 1 Axes>"
      ]
     },
     "metadata": {},
     "output_type": "display_data"
    }
   ],
   "source": [
    "sns.countplot(data=df,x=\"address\",hue=\"bhk\")"
   ]
  },
  {
   "cell_type": "code",
   "execution_count": 60,
   "id": "07a6b0d4",
   "metadata": {},
   "outputs": [
    {
     "name": "stdout",
     "output_type": "stream",
     "text": [
      "bhk                   2    3   4\n",
      "status                          \n",
      "Ready to move       294  147   0\n",
      "Under Construction  196  294  49\n"
     ]
    }
   ],
   "source": [
    "crosstab = pd.crosstab(df['status'], df['bhk'])\n",
    "\n",
    "print(crosstab)"
   ]
  },
  {
   "cell_type": "code",
   "execution_count": 65,
   "id": "a0fa485e",
   "metadata": {},
   "outputs": [
    {
     "data": {
      "text/plain": [
       "<Axes: xlabel='bhk'>"
      ]
     },
     "execution_count": 65,
     "metadata": {},
     "output_type": "execute_result"
    },
    {
     "data": {
      "image/png": "[encoded data removed]",
      "text/plain": [
       "<Figure size 640x480 with 1 Axes>"
      ]
     },
     "metadata": {},
     "output_type": "display_data"
    }
   ],
   "source": [
    "cross_tab=pd.crosstab(df[\"bhk\"],df[\"status\"])\n",
    "cross_tab.plot(kind=\"bar\")"
   ]
  },
  {
   "cell_type": "code",
   "execution_count": 69,
   "id": "401469f0",
   "metadata": {},
   "outputs": [
    {
     "data": {
      "text/html": [
       "<div>\n",
       "<style scoped>\n",
       "    .dataframe tbody tr th:only-of-type {\n",
       "        vertical-align: middle;\n",
       "    }\n",
       "\n",
       "    .dataframe tbody tr th {\n",
       "        vertical-align: top;\n",
       "    }\n",
       "\n",
       "    .dataframe thead th {\n",
       "        text-align: right;\n",
       "    }\n",
       "</style>\n",
       "<table border=\"1\" class=\"dataframe\">\n",
       "  <thead>\n",
       "    <tr style=\"text-align: right;\">\n",
       "      <th></th>\n",
       "      <th>min</th>\n",
       "      <th>max</th>\n",
       "      <th>mean</th>\n",
       "      <th>median</th>\n",
       "    </tr>\n",
       "    <tr>\n",
       "      <th>bhk</th>\n",
       "      <th></th>\n",
       "      <th></th>\n",
       "      <th></th>\n",
       "      <th></th>\n",
       "    </tr>\n",
       "  </thead>\n",
       "  <tbody>\n",
       "    <tr>\n",
       "      <th>2</th>\n",
       "      <td>4796000</td>\n",
       "      <td>8289000</td>\n",
       "      <td>6.360600e+06</td>\n",
       "      <td>6078500.0</td>\n",
       "    </tr>\n",
       "    <tr>\n",
       "      <th>3</th>\n",
       "      <td>7043000</td>\n",
       "      <td>38800000</td>\n",
       "      <td>1.591656e+07</td>\n",
       "      <td>9000000.0</td>\n",
       "    </tr>\n",
       "    <tr>\n",
       "      <th>4</th>\n",
       "      <td>58500000</td>\n",
       "      <td>58500000</td>\n",
       "      <td>5.850000e+07</td>\n",
       "      <td>58500000.0</td>\n",
       "    </tr>\n",
       "  </tbody>\n",
       "</table>\n",
       "</div>"
      ],
      "text/plain": [
       "          min       max          mean      median\n",
       "bhk                                              \n",
       "2     4796000   8289000  6.360600e+06   6078500.0\n",
       "3     7043000  38800000  1.591656e+07   9000000.0\n",
       "4    58500000  58500000  5.850000e+07  58500000.0"
      ]
     },
     "execution_count": 69,
     "metadata": {},
     "output_type": "execute_result"
    }
   ],
   "source": [
    "group = df.groupby('bhk')\n",
    "\n",
    "group['amount'].agg(['min', 'max', 'mean', 'median'])"
   ]
  },
  {
   "cell_type": "code",
   "execution_count": 77,
   "id": "05c077a9",
   "metadata": {},
   "outputs": [
    {
     "data": {
      "text/plain": [
       "<Axes: xlabel='bhk', ylabel='amount'>"
      ]
     },
     "execution_count": 77,
     "metadata": {},
     "output_type": "execute_result"
    },
    {
     "data": {
      "image/png": "[encoded data removed]",
      "text/plain": [
       "<Figure size 640x480 with 1 Axes>"
      ]
     },
     "metadata": {},
     "output_type": "display_data"
    }
   ],
   "source": [
    "sns.boxenplot(data=df, x='bhk', y='amount')"
   ]
  },
  {
   "cell_type": "code",
   "execution_count": 78,
   "id": "bcd644f2",
   "metadata": {},
   "outputs": [
    {
     "data": {
      "text/html": [
       "<div>\n",
       "<style scoped>\n",
       "    .dataframe tbody tr th:only-of-type {\n",
       "        vertical-align: middle;\n",
       "    }\n",
       "\n",
       "    .dataframe tbody tr th {\n",
       "        vertical-align: top;\n",
       "    }\n",
       "\n",
       "    .dataframe thead th {\n",
       "        text-align: right;\n",
       "    }\n",
       "</style>\n",
       "<table border=\"1\" class=\"dataframe\">\n",
       "  <thead>\n",
       "    <tr style=\"text-align: right;\">\n",
       "      <th></th>\n",
       "      <th>min</th>\n",
       "      <th>max</th>\n",
       "      <th>mean</th>\n",
       "      <th>median</th>\n",
       "    </tr>\n",
       "    <tr>\n",
       "      <th>bhk</th>\n",
       "      <th></th>\n",
       "      <th></th>\n",
       "      <th></th>\n",
       "      <th></th>\n",
       "    </tr>\n",
       "  </thead>\n",
       "  <tbody>\n",
       "    <tr>\n",
       "      <th>2</th>\n",
       "      <td>780</td>\n",
       "      <td>1225</td>\n",
       "      <td>1001.300000</td>\n",
       "      <td>1023.0</td>\n",
       "    </tr>\n",
       "    <tr>\n",
       "      <th>3</th>\n",
       "      <td>1118</td>\n",
       "      <td>2211</td>\n",
       "      <td>1594.222222</td>\n",
       "      <td>1600.0</td>\n",
       "    </tr>\n",
       "    <tr>\n",
       "      <th>4</th>\n",
       "      <td>3442</td>\n",
       "      <td>3442</td>\n",
       "      <td>3442.000000</td>\n",
       "      <td>3442.0</td>\n",
       "    </tr>\n",
       "  </tbody>\n",
       "</table>\n",
       "</div>"
      ],
      "text/plain": [
       "      min   max         mean  median\n",
       "bhk                                 \n",
       "2     780  1225  1001.300000  1023.0\n",
       "3    1118  2211  1594.222222  1600.0\n",
       "4    3442  3442  3442.000000  3442.0"
      ]
     },
     "execution_count": 78,
     "metadata": {},
     "output_type": "execute_result"
    }
   ],
   "source": [
    "group = df.groupby('bhk')\n",
    "\n",
    "group['area_sq_ft'].agg(['min', 'max', 'mean', 'median'])"
   ]
  },
  {
   "cell_type": "code",
   "execution_count": 79,
   "id": "3d589636",
   "metadata": {},
   "outputs": [
    {
     "data": {
      "text/plain": [
       "<Axes: xlabel='bhk', ylabel='area_sq_ft'>"
      ]
     },
     "execution_count": 79,
     "metadata": {},
     "output_type": "execute_result"
    },
    {
     "data": {
      "image/png": "[encoded data removed]",
      "text/plain": [
       "<Figure size 640x480 with 1 Axes>"
      ]
     },
     "metadata": {},
     "output_type": "display_data"
    }
   ],
   "source": [
    "sns.boxenplot(data=df, x='bhk', y='area_sq_ft')"
   ]
  },
  {
   "cell_type": "code",
   "execution_count": 80,
   "id": "9ef3d252",
   "metadata": {},
   "outputs": [],
   "source": [
    "def chi_square(freq_table, significance_level):\n",
    "    stat, p_val, dof, expected = stats.chi2_contingency(freq_table)\n",
    "    \n",
    "    print('stat=%.3f, p=%.3f' % (stat, p_val))\n",
    "    \n",
    "    if p_val < significance_level:\n",
    "        print('Reject null hypothesis (H0): Probably dependent')\n",
    "    else:\n",
    "        print('Fail to Reject null hypothesis (H0): Probably independent')\n"
   ]
  },
  {
   "cell_type": "code",
   "execution_count": 81,
   "id": "4cd13abd",
   "metadata": {},
   "outputs": [
    {
     "data": {
      "text/html": [
       "<div>\n",
       "<style scoped>\n",
       "    .dataframe tbody tr th:only-of-type {\n",
       "        vertical-align: middle;\n",
       "    }\n",
       "\n",
       "    .dataframe tbody tr th {\n",
       "        vertical-align: top;\n",
       "    }\n",
       "\n",
       "    .dataframe thead th {\n",
       "        text-align: right;\n",
       "    }\n",
       "</style>\n",
       "<table border=\"1\" class=\"dataframe\">\n",
       "  <thead>\n",
       "    <tr style=\"text-align: right;\">\n",
       "      <th>status</th>\n",
       "      <th>Ready to move</th>\n",
       "      <th>Under Construction</th>\n",
       "    </tr>\n",
       "    <tr>\n",
       "      <th>bhk</th>\n",
       "      <th></th>\n",
       "      <th></th>\n",
       "    </tr>\n",
       "  </thead>\n",
       "  <tbody>\n",
       "    <tr>\n",
       "      <th>2</th>\n",
       "      <td>294</td>\n",
       "      <td>196</td>\n",
       "    </tr>\n",
       "    <tr>\n",
       "      <th>3</th>\n",
       "      <td>49</td>\n",
       "      <td>196</td>\n",
       "    </tr>\n",
       "  </tbody>\n",
       "</table>\n",
       "</div>"
      ],
      "text/plain": [
       "status  Ready to move  Under Construction\n",
       "bhk                                      \n",
       "2                 294                 196\n",
       "3                  49                 196"
      ]
     },
     "execution_count": 81,
     "metadata": {},
     "output_type": "execute_result"
    }
   ],
   "source": [
    "freq_table = pd.crosstab(df_clean['bhk'], df_clean['status'])\n",
    "\n",
    "freq_table"
   ]
  },
  {
   "cell_type": "code",
   "execution_count": 82,
   "id": "fcba5174",
   "metadata": {},
   "outputs": [
    {
     "name": "stdout",
     "output_type": "stream",
     "text": [
      "stat=103.399, p=0.000\n",
      "Reject null hypothesis (H0): Probably dependent\n"
     ]
    }
   ],
   "source": [
    "chi_square(freq_table, significance_level=0.05)"
   ]
  },
  {
   "cell_type": "code",
   "execution_count": 85,
   "id": "657d2aaf",
   "metadata": {},
   "outputs": [
    {
     "data": {
      "text/html": [
       "<div>\n",
       "<style scoped>\n",
       "    .dataframe tbody tr th:only-of-type {\n",
       "        vertical-align: middle;\n",
       "    }\n",
       "\n",
       "    .dataframe tbody tr th {\n",
       "        vertical-align: top;\n",
       "    }\n",
       "\n",
       "    .dataframe thead th {\n",
       "        text-align: right;\n",
       "    }\n",
       "</style>\n",
       "<table border=\"1\" class=\"dataframe\">\n",
       "  <thead>\n",
       "    <tr style=\"text-align: right;\">\n",
       "      <th>address</th>\n",
       "      <th>Avadi, Chennai</th>\n",
       "      <th>East Tambaram, Chennai</th>\n",
       "      <th>Egmore, Chennai</th>\n",
       "      <th>Guindy, Chennai</th>\n",
       "      <th>Iyyappanthangal, Chennai</th>\n",
       "      <th>Karapakkam, Chennai</th>\n",
       "      <th>Kattupakkam, Chennai</th>\n",
       "      <th>Kolathur, Chennai</th>\n",
       "      <th>Mugalivakkam, Chennai</th>\n",
       "      <th>Nungambakkam, Chennai</th>\n",
       "      <th>Padur, Chennai</th>\n",
       "      <th>Pallavaram, Chennai</th>\n",
       "      <th>Perumbakkam, Chennai</th>\n",
       "      <th>Poonamallee, Chennai</th>\n",
       "      <th>Puzhal, Chennai</th>\n",
       "      <th>Sholinganallur, Chennai</th>\n",
       "      <th>Thiruvanmiyur, Chennai</th>\n",
       "      <th>Vengaivasal, Chennai</th>\n",
       "    </tr>\n",
       "    <tr>\n",
       "      <th>bhk</th>\n",
       "      <th></th>\n",
       "      <th></th>\n",
       "      <th></th>\n",
       "      <th></th>\n",
       "      <th></th>\n",
       "      <th></th>\n",
       "      <th></th>\n",
       "      <th></th>\n",
       "      <th></th>\n",
       "      <th></th>\n",
       "      <th></th>\n",
       "      <th></th>\n",
       "      <th></th>\n",
       "      <th></th>\n",
       "      <th></th>\n",
       "      <th></th>\n",
       "      <th></th>\n",
       "      <th></th>\n",
       "    </tr>\n",
       "  </thead>\n",
       "  <tbody>\n",
       "    <tr>\n",
       "      <th>2</th>\n",
       "      <td>0</td>\n",
       "      <td>49</td>\n",
       "      <td>0</td>\n",
       "      <td>0</td>\n",
       "      <td>0</td>\n",
       "      <td>49</td>\n",
       "      <td>49</td>\n",
       "      <td>98</td>\n",
       "      <td>0</td>\n",
       "      <td>0</td>\n",
       "      <td>0</td>\n",
       "      <td>49</td>\n",
       "      <td>98</td>\n",
       "      <td>0</td>\n",
       "      <td>49</td>\n",
       "      <td>0</td>\n",
       "      <td>0</td>\n",
       "      <td>49</td>\n",
       "    </tr>\n",
       "    <tr>\n",
       "      <th>3</th>\n",
       "      <td>49</td>\n",
       "      <td>0</td>\n",
       "      <td>0</td>\n",
       "      <td>49</td>\n",
       "      <td>49</td>\n",
       "      <td>0</td>\n",
       "      <td>0</td>\n",
       "      <td>0</td>\n",
       "      <td>49</td>\n",
       "      <td>49</td>\n",
       "      <td>49</td>\n",
       "      <td>0</td>\n",
       "      <td>0</td>\n",
       "      <td>49</td>\n",
       "      <td>0</td>\n",
       "      <td>49</td>\n",
       "      <td>49</td>\n",
       "      <td>0</td>\n",
       "    </tr>\n",
       "    <tr>\n",
       "      <th>4</th>\n",
       "      <td>0</td>\n",
       "      <td>0</td>\n",
       "      <td>49</td>\n",
       "      <td>0</td>\n",
       "      <td>0</td>\n",
       "      <td>0</td>\n",
       "      <td>0</td>\n",
       "      <td>0</td>\n",
       "      <td>0</td>\n",
       "      <td>0</td>\n",
       "      <td>0</td>\n",
       "      <td>0</td>\n",
       "      <td>0</td>\n",
       "      <td>0</td>\n",
       "      <td>0</td>\n",
       "      <td>0</td>\n",
       "      <td>0</td>\n",
       "      <td>0</td>\n",
       "    </tr>\n",
       "  </tbody>\n",
       "</table>\n",
       "</div>"
      ],
      "text/plain": [
       "address  Avadi, Chennai  East Tambaram, Chennai  Egmore, Chennai  \\\n",
       "bhk                                                                \n",
       "2                     0                      49                0   \n",
       "3                    49                       0                0   \n",
       "4                     0                       0               49   \n",
       "\n",
       "address  Guindy, Chennai  Iyyappanthangal, Chennai  Karapakkam, Chennai  \\\n",
       "bhk                                                                       \n",
       "2                      0                         0                   49   \n",
       "3                     49                        49                    0   \n",
       "4                      0                         0                    0   \n",
       "\n",
       "address  Kattupakkam, Chennai  Kolathur, Chennai  Mugalivakkam, Chennai  \\\n",
       "bhk                                                                       \n",
       "2                          49                 98                      0   \n",
       "3                           0                  0                     49   \n",
       "4                           0                  0                      0   \n",
       "\n",
       "address  Nungambakkam, Chennai  Padur, Chennai  Pallavaram, Chennai  \\\n",
       "bhk                                                                   \n",
       "2                            0               0                   49   \n",
       "3                           49              49                    0   \n",
       "4                            0               0                    0   \n",
       "\n",
       "address  Perumbakkam, Chennai  Poonamallee, Chennai  Puzhal, Chennai  \\\n",
       "bhk                                                                    \n",
       "2                          98                     0               49   \n",
       "3                           0                    49                0   \n",
       "4                           0                     0                0   \n",
       "\n",
       "address  Sholinganallur, Chennai  Thiruvanmiyur, Chennai  Vengaivasal, Chennai  \n",
       "bhk                                                                             \n",
       "2                              0                       0                    49  \n",
       "3                             49                      49                     0  \n",
       "4                              0                       0                     0  "
      ]
     },
     "execution_count": 85,
     "metadata": {},
     "output_type": "execute_result"
    }
   ],
   "source": [
    "freq_table = pd.crosstab(df['bhk'], df['address'])\n",
    "freq_table"
   ]
  },
  {
   "cell_type": "code",
   "execution_count": 86,
   "id": "d0c3808c",
   "metadata": {},
   "outputs": [
    {
     "name": "stdout",
     "output_type": "stream",
     "text": [
      "stat=1960.000, p=0.000\n",
      "Reject null hypothesis (H0): Probably dependent\n"
     ]
    }
   ],
   "source": [
    "chi_square(freq_table, significance_level=0.05)"
   ]
  },
  {
   "cell_type": "code",
   "execution_count": null,
   "id": "dc68415a",
   "metadata": {},
   "outputs": [],
   "source": []
  }
 ],
 "metadata": {
  "kernelspec": {
   "display_name": "Python 3 (ipykernel)",
   "language": "python",
   "name": "python3"
  },
  "language_info": {
   "codemirror_mode": {
    "name": "ipython",
    "version": 3
   },
   "file_extension": ".py",
   "mimetype": "text/x-python",
   "name": "python",
   "nbconvert_exporter": "python",
   "pygments_lexer": "ipython3",
   "version": "3.10.9"
  }
 },
 "nbformat": 4,
 "nbformat_minor": 5
}
